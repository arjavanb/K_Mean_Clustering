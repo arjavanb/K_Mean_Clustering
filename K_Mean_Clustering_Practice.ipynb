{
 "cells": [
  {
   "cell_type": "code",
   "execution_count": 1,
   "metadata": {},
   "outputs": [],
   "source": [
    "import numpy as np\n",
    "import pandas as pd"
   ]
  },
  {
   "cell_type": "code",
   "execution_count": 2,
   "metadata": {},
   "outputs": [],
   "source": [
    "import matplotlib.pyplot as plt\n",
    "import seaborn as sns\n",
    "%matplotlib inline"
   ]
  },
  {
   "cell_type": "code",
   "execution_count": 4,
   "metadata": {},
   "outputs": [],
   "source": [
    "from sklearn.datasets import make_blobs"
   ]
  },
  {
   "cell_type": "code",
   "execution_count": 5,
   "metadata": {},
   "outputs": [],
   "source": [
    "data = make_blobs(n_samples=700, n_features=10, centers=4)"
   ]
  },
  {
   "cell_type": "code",
   "execution_count": 10,
   "metadata": {},
   "outputs": [
    {
     "data": {
      "text/plain": [
       "(700, 10)"
      ]
     },
     "execution_count": 10,
     "metadata": {},
     "output_type": "execute_result"
    }
   ],
   "source": [
    "data[0].shape # features"
   ]
  },
  {
   "cell_type": "code",
   "execution_count": 11,
   "metadata": {},
   "outputs": [
    {
     "data": {
      "text/plain": [
       "(700,)"
      ]
     },
     "execution_count": 11,
     "metadata": {},
     "output_type": "execute_result"
    }
   ],
   "source": [
    "data[1].shape # clusters column"
   ]
  },
  {
   "cell_type": "code",
   "execution_count": 12,
   "metadata": {},
   "outputs": [],
   "source": [
    "df = pd.DataFrame(data[0], columns=['feature_'+str(i) for i in range(1,11)])"
   ]
  },
  {
   "cell_type": "code",
   "execution_count": 13,
   "metadata": {},
   "outputs": [
    {
     "data": {
      "text/html": [
       "<div>\n",
       "<style scoped>\n",
       "    .dataframe tbody tr th:only-of-type {\n",
       "        vertical-align: middle;\n",
       "    }\n",
       "\n",
       "    .dataframe tbody tr th {\n",
       "        vertical-align: top;\n",
       "    }\n",
       "\n",
       "    .dataframe thead th {\n",
       "        text-align: right;\n",
       "    }\n",
       "</style>\n",
       "<table border=\"1\" class=\"dataframe\">\n",
       "  <thead>\n",
       "    <tr style=\"text-align: right;\">\n",
       "      <th></th>\n",
       "      <th>feature_1</th>\n",
       "      <th>feature_2</th>\n",
       "      <th>feature_3</th>\n",
       "      <th>feature_4</th>\n",
       "      <th>feature_5</th>\n",
       "      <th>feature_6</th>\n",
       "      <th>feature_7</th>\n",
       "      <th>feature_8</th>\n",
       "      <th>feature_9</th>\n",
       "      <th>feature_10</th>\n",
       "    </tr>\n",
       "  </thead>\n",
       "  <tbody>\n",
       "    <tr>\n",
       "      <th>0</th>\n",
       "      <td>-7.881170</td>\n",
       "      <td>4.634131</td>\n",
       "      <td>-4.133898</td>\n",
       "      <td>-8.332451</td>\n",
       "      <td>2.167141</td>\n",
       "      <td>1.288820</td>\n",
       "      <td>1.927362</td>\n",
       "      <td>-4.857573</td>\n",
       "      <td>-3.175319</td>\n",
       "      <td>-9.416083</td>\n",
       "    </tr>\n",
       "    <tr>\n",
       "      <th>1</th>\n",
       "      <td>4.064249</td>\n",
       "      <td>6.619258</td>\n",
       "      <td>7.957398</td>\n",
       "      <td>-6.255611</td>\n",
       "      <td>8.500881</td>\n",
       "      <td>-1.532523</td>\n",
       "      <td>1.406414</td>\n",
       "      <td>-8.646938</td>\n",
       "      <td>-6.034970</td>\n",
       "      <td>-5.065727</td>\n",
       "    </tr>\n",
       "    <tr>\n",
       "      <th>2</th>\n",
       "      <td>7.488118</td>\n",
       "      <td>4.572708</td>\n",
       "      <td>9.112049</td>\n",
       "      <td>-4.917561</td>\n",
       "      <td>7.144051</td>\n",
       "      <td>-0.657970</td>\n",
       "      <td>2.445515</td>\n",
       "      <td>-8.137547</td>\n",
       "      <td>-3.921590</td>\n",
       "      <td>-3.863434</td>\n",
       "    </tr>\n",
       "    <tr>\n",
       "      <th>3</th>\n",
       "      <td>-3.629294</td>\n",
       "      <td>10.157354</td>\n",
       "      <td>-9.369155</td>\n",
       "      <td>6.876952</td>\n",
       "      <td>-6.593312</td>\n",
       "      <td>0.795689</td>\n",
       "      <td>3.881249</td>\n",
       "      <td>-8.363422</td>\n",
       "      <td>-3.703357</td>\n",
       "      <td>-1.903407</td>\n",
       "    </tr>\n",
       "    <tr>\n",
       "      <th>4</th>\n",
       "      <td>4.167395</td>\n",
       "      <td>4.961092</td>\n",
       "      <td>7.925537</td>\n",
       "      <td>-4.732667</td>\n",
       "      <td>7.448785</td>\n",
       "      <td>0.732583</td>\n",
       "      <td>2.608230</td>\n",
       "      <td>-8.751130</td>\n",
       "      <td>-4.805329</td>\n",
       "      <td>-5.126859</td>\n",
       "    </tr>\n",
       "  </tbody>\n",
       "</table>\n",
       "</div>"
      ],
      "text/plain": [
       "   feature_1  feature_2  feature_3  feature_4  feature_5  feature_6  \\\n",
       "0  -7.881170   4.634131  -4.133898  -8.332451   2.167141   1.288820   \n",
       "1   4.064249   6.619258   7.957398  -6.255611   8.500881  -1.532523   \n",
       "2   7.488118   4.572708   9.112049  -4.917561   7.144051  -0.657970   \n",
       "3  -3.629294  10.157354  -9.369155   6.876952  -6.593312   0.795689   \n",
       "4   4.167395   4.961092   7.925537  -4.732667   7.448785   0.732583   \n",
       "\n",
       "   feature_7  feature_8  feature_9  feature_10  \n",
       "0   1.927362  -4.857573  -3.175319   -9.416083  \n",
       "1   1.406414  -8.646938  -6.034970   -5.065727  \n",
       "2   2.445515  -8.137547  -3.921590   -3.863434  \n",
       "3   3.881249  -8.363422  -3.703357   -1.903407  \n",
       "4   2.608230  -8.751130  -4.805329   -5.126859  "
      ]
     },
     "execution_count": 13,
     "metadata": {},
     "output_type": "execute_result"
    }
   ],
   "source": [
    "df.head()"
   ]
  },
  {
   "cell_type": "code",
   "execution_count": 14,
   "metadata": {},
   "outputs": [],
   "source": [
    "from sklearn.cluster import KMeans"
   ]
  },
  {
   "cell_type": "markdown",
   "metadata": {},
   "source": [
    "we can use elbow method to find the optimum number of clusters as follows:\n",
    "the metric we use is SSE which is accesible through .inertia_ attribute"
   ]
  },
  {
   "cell_type": "code",
   "execution_count": 38,
   "metadata": {},
   "outputs": [],
   "source": [
    "sse_error = []\n",
    "for n_clusters in range(1,11):\n",
    "    kmeans = KMeans(n_clusters)\n",
    "    kmeans.fit(df)\n",
    "    sse_error.append(kmeans.inertia_)\n"
   ]
  },
  {
   "cell_type": "code",
   "execution_count": 43,
   "metadata": {},
   "outputs": [
    {
     "data": {
      "text/plain": [
       "Text(0,0.5,'SSE')"
      ]
     },
     "execution_count": 43,
     "metadata": {},
     "output_type": "execute_result"
    },
    {
     "data": {
      "image/png": "[encoded data removed]",
      "text/plain": [
       "<Figure size 432x288 with 1 Axes>"
      ]
     },
     "metadata": {},
     "output_type": "display_data"
    }
   ],
   "source": [
    "fig = plt.figure()\n",
    "ax = fig.add_axes([0, 0, 1, 1])\n",
    "ax.plot(range(1,11), sse_error, marker='o')\n",
    "ax.set_xlabel('n_clusters')\n",
    "ax.set_ylabel('SSE')"
   ]
  },
  {
   "cell_type": "markdown",
   "metadata": {},
   "source": [
    "since we know the original cluster distribution we can also see how many points have been misclassified"
   ]
  },
  {
   "cell_type": "code",
   "execution_count": 44,
   "metadata": {},
   "outputs": [],
   "source": [
    "kmeans = KMeans(4)\n",
    "kmeans.fit(df)\n",
    "km_pred = kmeans.labels_\n",
    "act_label = data[1]\n"
   ]
  },
  {
   "cell_type": "code",
   "execution_count": 54,
   "metadata": {},
   "outputs": [
    {
     "data": {
      "text/plain": [
       "array([0, 2, 2, 1, 2, 1, 0, 2, 1, 0, 3, 3, 1, 0, 0])"
      ]
     },
     "execution_count": 54,
     "metadata": {},
     "output_type": "execute_result"
    }
   ],
   "source": [
    "km_pred[:15]"
   ]
  },
  {
   "cell_type": "code",
   "execution_count": 55,
   "metadata": {},
   "outputs": [
    {
     "data": {
      "text/plain": [
       "array([0, 3, 3, 2, 3, 2, 0, 3, 2, 0, 1, 1, 2, 0, 0])"
      ]
     },
     "execution_count": 55,
     "metadata": {},
     "output_type": "execute_result"
    }
   ],
   "source": [
    "act_label[:15]"
   ]
  },
  {
   "cell_type": "code",
   "execution_count": 48,
   "metadata": {},
   "outputs": [],
   "source": [
    "error = pd.Series(km_pred != act_label)"
   ]
  },
  {
   "cell_type": "code",
   "execution_count": 49,
   "metadata": {},
   "outputs": [
    {
     "data": {
      "text/plain": [
       "True     525\n",
       "False    175\n",
       "dtype: int64"
      ]
     },
     "execution_count": 49,
     "metadata": {},
     "output_type": "execute_result"
    }
   ],
   "source": [
    "error.value_counts()"
   ]
  },
  {
   "cell_type": "markdown",
   "metadata": {},
   "source": [
    "Now it seems that we could not correctly label 175 data points! which is 25% of the data! the fact is cluster numbers do not necessarily match between the two algorithsm (i.e. kmean and sklearn.make_blobs). infact it did a perfect job because SSE values drop very slightly for higher values of clusters\n",
    "\n",
    "note that other metrics cannot also understand this subtlety!"
   ]
  },
  {
   "cell_type": "code",
   "execution_count": 50,
   "metadata": {},
   "outputs": [],
   "source": [
    "from sklearn.metrics import confusion_matrix, classification_report"
   ]
  },
  {
   "cell_type": "code",
   "execution_count": 51,
   "metadata": {},
   "outputs": [
    {
     "name": "stdout",
     "output_type": "stream",
     "text": [
      "[[175   0   0   0]\n",
      " [  0   0   0 175]\n",
      " [  0 175   0   0]\n",
      " [  0   0 175   0]]\n",
      "\n",
      "\n",
      "             precision    recall  f1-score   support\n",
      "\n",
      "          0       1.00      1.00      1.00       175\n",
      "          1       0.00      0.00      0.00       175\n",
      "          2       0.00      0.00      0.00       175\n",
      "          3       0.00      0.00      0.00       175\n",
      "\n",
      "avg / total       0.25      0.25      0.25       700\n",
      "\n"
     ]
    }
   ],
   "source": [
    "print(confusion_matrix(act_label, km_pred))\n",
    "print('\\n')\n",
    "print(classification_report(act_label, km_pred))"
   ]
  },
  {
   "cell_type": "raw",
   "metadata": {},
   "source": [
    "however, based on line 54 and 55, we can map the clusters to match\n",
    "act_label ---> km_pred\n",
    "3 ---> 2\n",
    "2 ---> 1\n",
    "1 ---> 3\n",
    "0 ---> 0\n",
    "we need an intermediate value to avoid messing up the clusters"
   ]
  },
  {
   "cell_type": "code",
   "execution_count": 56,
   "metadata": {},
   "outputs": [],
   "source": [
    "act_label[act_label == 3] = 4\n",
    "act_label[act_label == 2] = 5\n",
    "act_label[act_label == 1] = 6\n",
    "act_label[act_label == 4] = 2\n",
    "act_label[act_label == 5] = 1\n",
    "act_label[act_label == 6] = 3"
   ]
  },
  {
   "cell_type": "code",
   "execution_count": 57,
   "metadata": {},
   "outputs": [
    {
     "data": {
      "text/plain": [
       "array([0, 2, 2, 1, 2, 1, 0, 2, 1, 0, 3, 3, 1, 0, 0, 2, 1, 1, 1, 1, 3])"
      ]
     },
     "execution_count": 57,
     "metadata": {},
     "output_type": "execute_result"
    }
   ],
   "source": [
    "km_pred[:21]"
   ]
  },
  {
   "cell_type": "code",
   "execution_count": 58,
   "metadata": {},
   "outputs": [
    {
     "data": {
      "text/plain": [
       "array([0, 2, 2, 1, 2, 1, 0, 2, 1, 0, 3, 3, 1, 0, 0, 2, 1, 1, 1, 1, 3])"
      ]
     },
     "execution_count": 58,
     "metadata": {},
     "output_type": "execute_result"
    }
   ],
   "source": [
    "act_label[:21]"
   ]
  },
  {
   "cell_type": "code",
   "execution_count": 59,
   "metadata": {},
   "outputs": [],
   "source": [
    "error = pd.Series(km_pred != act_label)"
   ]
  },
  {
   "cell_type": "code",
   "execution_count": 60,
   "metadata": {},
   "outputs": [
    {
     "data": {
      "text/plain": [
       "False    700\n",
       "dtype: int64"
      ]
     },
     "execution_count": 60,
     "metadata": {},
     "output_type": "execute_result"
    }
   ],
   "source": [
    "error.value_counts()"
   ]
  },
  {
   "cell_type": "code",
   "execution_count": null,
   "metadata": {},
   "outputs": [],
   "source": [
    "perfect!"
   ]
  }
 ],
 "metadata": {
  "kernelspec": {
   "display_name": "Python 3",
   "language": "python",
   "name": "python3"
  },
  "language_info": {
   "codemirror_mode": {
    "name": "ipython",
    "version": 3
   },
   "file_extension": ".py",
   "mimetype": "text/x-python",
   "name": "python",
   "nbconvert_exporter": "python",
   "pygments_lexer": "ipython3",
   "version": "3.6.5"
  }
 },
 "nbformat": 4,
 "nbformat_minor": 2
}
